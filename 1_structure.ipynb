{
 "cells": [
  {
   "cell_type": "markdown",
   "metadata": {},
   "source": [
    "# Performance analysis"
   ]
  },
  {
   "cell_type": "markdown",
   "metadata": {},
   "source": [
    "## General"
   ]
  },
  {
   "cell_type": "markdown",
   "metadata": {},
   "source": [
    "### Imports"
   ]
  },
  {
   "cell_type": "code",
   "execution_count": null,
   "metadata": {},
   "outputs": [],
   "source": [
    "import copy\n",
    "import matplotlib.pyplot as plt\n",
    "import random\n",
    "import sys\n",
    "import time"
   ]
  },
  {
   "cell_type": "code",
   "execution_count": null,
   "metadata": {},
   "outputs": [],
   "source": [
    "from blockchains.mark_1.blockchain import Blockchain as BlockchainNoPOW"
   ]
  },
  {
   "cell_type": "markdown",
   "metadata": {},
   "source": [
    "## Insert"
   ]
  },
  {
   "cell_type": "markdown",
   "metadata": {},
   "source": [
    "### General"
   ]
  },
  {
   "cell_type": "markdown",
   "metadata": {},
   "source": [
    "#### Notes"
   ]
  },
  {
   "cell_type": "markdown",
   "metadata": {},
   "source": [
    "I'll use `copy.deepcopy` for inserting a new elements (with a different id) in the data structure each time.  \n",
    "Otherwise, Python by default will reuse and only reference the very same data structure - you can check this using `id()` on each element.  \n",
    "`sys.getsizeof` is not deep: for complex data structures (such as the block, which is a `dict` containing a `list`) I need to add the weight of the single elements - taking the weight of the external structure will not include the internal elements."
   ]
  },
  {
   "cell_type": "markdown",
   "metadata": {},
   "source": [
    "### Common data structures: Dictionary, Set, List"
   ]
  },
  {
   "cell_type": "markdown",
   "metadata": {},
   "source": [
    "#### Generating test data"
   ]
  },
  {
   "cell_type": "code",
   "execution_count": null,
   "metadata": {},
   "outputs": [],
   "source": [
    "min_test_rounds = 1\n",
    "max_test_rounds = 1002\n",
    "step_test_round = 100\n",
    "test_rounds = range(min_test_rounds, max_test_rounds, step_test_round)\n",
    "test_data = 'Chancellor on brink of second bailout for banks'"
   ]
  },
  {
   "cell_type": "markdown",
   "metadata": {},
   "source": [
    "##### Notes:\n",
    "* I am using strings for the test because Python's set only accepts hashable elements"
   ]
  },
  {
   "cell_type": "code",
   "execution_count": null,
   "metadata": {},
   "outputs": [],
   "source": [
    "def test_data_structures_without_POW_insert(test_rounds=test_rounds):\n",
    "    # SUT_dictionary\n",
    "    SUT_dictionary_insert_time_results = []\n",
    "    SUT_dictionary_insert_weight_results = []\n",
    "\n",
    "    # SUT_set\n",
    "    SUT_set_insert_time_results = []\n",
    "    SUT_set_insert_weight_results = []\n",
    "\n",
    "    # SUT_list\n",
    "    SUT_list_insert_time_results = []\n",
    "    SUT_list_insert_weight_results = []\n",
    "\n",
    "\n",
    "    for test_round in test_rounds:\n",
    "        # SUT_dictionary\n",
    "        # Reset the SUT\n",
    "        SUT_dictionary = dict()\n",
    "        \n",
    "        start_time = time.time()\n",
    "        for element in range(test_round):\n",
    "            SUT_dictionary[element] = f'{test_data} {element}'\n",
    "        end_time = time.time()\n",
    "        SUT_dictionary_insert_time_results.append(end_time - start_time)\n",
    "        SUT_dictionary_insert_weight_results.append(sys.getsizeof(SUT_dictionary))\n",
    "\n",
    "        # SUT_set\n",
    "        # Reset the SUT\n",
    "        SUT_set = set()\n",
    "        \n",
    "        start_time = time.time()\n",
    "        for element in range(test_round):\n",
    "            SUT_set.add(f'{test_data} {element}')\n",
    "        end_time = time.time()\n",
    "        SUT_set_insert_time_results.append(end_time - start_time)\n",
    "        SUT_set_insert_weight_results.append(sys.getsizeof(SUT_set))\n",
    "\n",
    "        # SUT_list\n",
    "        # Reset the SUT\n",
    "        SUT_list = list()\n",
    "        \n",
    "        start_time = time.time()\n",
    "        for element in range(test_round):\n",
    "            SUT_list.append(f'{test_data} {element}')\n",
    "        end_time = time.time()\n",
    "        SUT_list_insert_time_results.append(end_time - start_time)\n",
    "        SUT_list_insert_weight_results.append(sys.getsizeof(SUT_list))\n",
    "\n",
    "    return (SUT_dictionary_insert_time_results,\n",
    "            SUT_dictionary_insert_weight_results,\n",
    "            SUT_set_insert_time_results,\n",
    "            SUT_set_insert_weight_results,\n",
    "            SUT_list_insert_time_results,\n",
    "            SUT_list_insert_weight_results)"
   ]
  },
  {
   "cell_type": "markdown",
   "metadata": {},
   "source": [
    "### Blockchain"
   ]
  },
  {
   "cell_type": "markdown",
   "metadata": {},
   "source": [
    "#### Without POW"
   ]
  },
  {
   "cell_type": "markdown",
   "metadata": {},
   "source": [
    "##### List implementation"
   ]
  },
  {
   "cell_type": "code",
   "execution_count": null,
   "metadata": {},
   "outputs": [],
   "source": [
    "def test_blockchain_without_POW_insert(test_rounds=test_rounds):\n",
    "    blockchain_list_sut = BlockchainNoPOW()\n",
    "    blockchain_list_tests_insert_time_results = []\n",
    "    blockchain_list_tests_insert_time_transaction_results = []\n",
    "    blockchain_list_tests_insert_time_block_results = []\n",
    "    blockchain_list_tests_insert_weight_results = []\n",
    "\n",
    "    for test_round in test_rounds:\n",
    "        # Reset the SUT\n",
    "        blockchain_list_sut = BlockchainNoPOW()\n",
    "        transaction_add_time = 0\n",
    "        block_add_time = 0\n",
    "        weight = 0\n",
    "        \n",
    "        for element in range(test_round):\n",
    "            start_time_transaction = time.time()\n",
    "            transaction = blockchain_list_sut.add_transaction(f'{test_data} {element}')\n",
    "            start_time_block = time.time()\n",
    "            block = blockchain_list_sut.mine()\n",
    "            end_time_block = time.time()\n",
    "            transaction_add_time += start_time_block - start_time_transaction\n",
    "            block_add_time += end_time_block - start_time_block\n",
    "            weight += sys.getsizeof(transaction)\n",
    "            weight += sys.getsizeof(block)\n",
    "        blockchain_list_tests_insert_time_results.append(transaction_add_time + block_add_time)\n",
    "        blockchain_list_tests_insert_time_transaction_results.append(transaction_add_time)\n",
    "        blockchain_list_tests_insert_time_block_results.append(block_add_time)\n",
    "        blockchain_list_tests_insert_weight_results.append(weight)\n",
    "\n",
    "    return (blockchain_list_tests_insert_time_results,\n",
    "            blockchain_list_tests_insert_time_transaction_results,\n",
    "            blockchain_list_tests_insert_time_block_results,\n",
    "            blockchain_list_tests_insert_weight_results)"
   ]
  },
  {
   "cell_type": "markdown",
   "metadata": {},
   "source": [
    "##### Set implementation"
   ]
  },
  {
   "cell_type": "markdown",
   "metadata": {},
   "source": [
    "The blockchain should be implemented using the `set` Python data structure, but `set` only accepts hashable types. Using the list as data structure for the internal chain I could easily store even unhashable type in this simple implementation of the Blockhain.  \n",
    "Also, `set` does not scale linearly in weight."
   ]
  },
  {
   "cell_type": "markdown",
   "metadata": {},
   "source": [
    "### Results"
   ]
  },
  {
   "cell_type": "markdown",
   "metadata": {},
   "source": [
    "#### Data"
   ]
  },
  {
   "cell_type": "code",
   "execution_count": null,
   "metadata": {},
   "outputs": [],
   "source": [
    "# Data Structure\n",
    "(SUT_dictionary_insert_time_results,\n",
    " SUT_dictionary_insert_weight_results,\n",
    " SUT_set_insert_time_results,\n",
    " SUT_set_insert_weight_results,\n",
    " SUT_list_insert_time_results,\n",
    " SUT_list_insert_weight_results) = test_data_structures_without_POW_insert(test_rounds)\n",
    "# Blockchain\n",
    "(blockchain_list_tests_insert_time_results,\n",
    " blockchain_list_tests_insert_time_transaction_results,\n",
    " blockchain_list_tests_insert_time_block_results,\n",
    " blockchain_list_tests_insert_weight_results) = test_blockchain_without_POW_insert(test_rounds)"
   ]
  },
  {
   "cell_type": "markdown",
   "metadata": {},
   "source": [
    "#### Time"
   ]
  },
  {
   "cell_type": "code",
   "execution_count": null,
   "metadata": {},
   "outputs": [],
   "source": [
    "fig, (ax1, ax2) = plt.subplots(2, 1, figsize=(15,10), sharex=True, sharey=True)\n",
    "fig.suptitle('Data Insert', fontsize=20)\n",
    "\n",
    "ylabel_text = 'Time'\n",
    "xlabel_text = 'Number of blocks'\n",
    "\n",
    "l1 = ax1.plot(test_rounds, SUT_dictionary_insert_time_results, label='Dictionary')[0]\n",
    "l2 = ax1.plot(test_rounds, SUT_set_insert_time_results, label='Set')[0]\n",
    "l3 = ax1.plot(test_rounds, SUT_list_insert_time_results, label='List')[0]\n",
    "l4 = ax1.plot(test_rounds, blockchain_list_tests_insert_time_results, label='Blockchain')[0]\n",
    "ax1.set_title('Global time for Data Structures and Blockchain')\n",
    "ax1.set_ylabel(ylabel_text)\n",
    "ax1.set_xlabel(xlabel_text)\n",
    "ax1.legend()\n",
    "\n",
    "l5 = ax2.plot(test_rounds, blockchain_list_tests_insert_time_transaction_results, label='Blockchain (Transaction)')[0]\n",
    "l6 = ax2.plot(test_rounds, blockchain_list_tests_insert_time_block_results, label='Blockchain (Block)')[0]\n",
    "l7 = ax2.plot(test_rounds, blockchain_list_tests_insert_time_results, label='Blockchain (Total)')[0]\n",
    "ax2.set_title('Global time for Blockchain actions')\n",
    "ax2.set_ylabel(ylabel_text)\n",
    "ax2.set_xlabel(xlabel_text)\n",
    "ax2.legend()\n",
    "\n",
    "plt.show()"
   ]
  },
  {
   "cell_type": "markdown",
   "metadata": {},
   "source": [
    "#### Weight"
   ]
  },
  {
   "cell_type": "code",
   "execution_count": null,
   "metadata": {},
   "outputs": [],
   "source": [
    "nonlinear_test_rounds = range(1, 252, 50)"
   ]
  },
  {
   "cell_type": "code",
   "execution_count": null,
   "metadata": {},
   "outputs": [],
   "source": [
    "def test_blockchain_without_POW_nonlinear_insert(test_rounds=test_rounds):\n",
    "    blockchain_list_nonlinear_sut = BlockchainNoPOW()\n",
    "    blockchain_list_nonlinear_tests_insert_time_results = []\n",
    "    blockchain_list_nonlinear_tests_insert_time_transaction_results = []\n",
    "    blockchain_list_nonlinear_tests_insert_time_block_results = []\n",
    "    blockchain_list_nonlinear_tests_insert_weight_results = []\n",
    "\n",
    "    for test_round in test_rounds:\n",
    "        # Reset the SUT\n",
    "        blockchain_list_nonlinear_sut = BlockchainNoPOW()\n",
    "        transaction_add_time = 0\n",
    "        block_add_time = 0\n",
    "        weight = 0\n",
    "        \n",
    "        for element in range(test_round):\n",
    "            # Upper limit between the (random int/coefficient) or random between 1 and limit\n",
    "            coefficient = 10\n",
    "            limit = random.randint(1, test_rounds[-1])\n",
    "            less_than = bool(random.getrandbits(1))\n",
    "            upper_limit = int(limit / coefficient) if less_than else random.randint(1,limit)\n",
    "            \n",
    "            start_time_transaction = time.time()\n",
    "            for turn in range(upper_limit):\n",
    "                transaction = blockchain_list_nonlinear_sut.add_transaction(f'{test_data} {turn}')\n",
    "                weight += sys.getsizeof(transaction)\n",
    "            start_time_block = time.time()\n",
    "            block = blockchain_list_nonlinear_sut.mine()\n",
    "            weight += sys.getsizeof(block)\n",
    "            end_time_block = time.time()\n",
    "            transaction_add_time += start_time_block - start_time_transaction\n",
    "            block_add_time += end_time_block - start_time_block\n",
    "        blockchain_list_nonlinear_tests_insert_time_results.append(transaction_add_time + block_add_time)\n",
    "        blockchain_list_nonlinear_tests_insert_time_transaction_results.append(transaction_add_time)\n",
    "        blockchain_list_nonlinear_tests_insert_time_block_results.append(block_add_time)\n",
    "        blockchain_list_nonlinear_tests_insert_weight_results.append(weight)\n",
    "\n",
    "    return (blockchain_list_nonlinear_tests_insert_time_results,\n",
    "            blockchain_list_nonlinear_tests_insert_time_transaction_results,\n",
    "            blockchain_list_nonlinear_tests_insert_time_block_results,\n",
    "            blockchain_list_nonlinear_tests_insert_weight_results)"
   ]
  },
  {
   "cell_type": "code",
   "execution_count": null,
   "metadata": {},
   "outputs": [],
   "source": [
    "# Blockchain linear insert\n",
    "(blockchain_list_tests_insert_time_results,\n",
    " blockchain_list_tests_insert_time_transaction_results,\n",
    " blockchain_list_tests_insert_time_block_results,\n",
    " blockchain_list_tests_insert_weight_results) = test_blockchain_without_POW_insert(test_rounds=nonlinear_test_rounds)\n",
    "# Blockchain nonlinear insert\n",
    "(blockchain_list_nonlinear_tests_insert_time_results,\n",
    " blockchain_list_nonlinear_tests_insert_time_transaction_results,\n",
    " blockchain_list_nonlinear_tests_insert_time_block_results,\n",
    " blockchain_list_nonlinear_tests_insert_weight_results) = test_blockchain_without_POW_nonlinear_insert(test_rounds=nonlinear_test_rounds)"
   ]
  },
  {
   "cell_type": "code",
   "execution_count": null,
   "metadata": {},
   "outputs": [],
   "source": [
    "fig, (ax1) = plt.subplots(1, 1, figsize=(15,10), sharex=True, sharey=True)\n",
    "fig.suptitle('Time', fontsize=20)\n",
    "\n",
    "ylabel_text = 'Time'\n",
    "xlabel_text = 'Number of blocks'\n",
    "\n",
    "l1 = ax1.plot(nonlinear_test_rounds, blockchain_list_tests_insert_time_results, label='Blockchain (linear)')[0]\n",
    "l2 = ax1.plot(nonlinear_test_rounds, blockchain_list_nonlinear_tests_insert_time_results, label='Blockchain (nonlinear)')[0]\n",
    "ax1.set_title('Global time for Blockchain and Non Linear Blockchain')\n",
    "ax1.set_ylabel(ylabel_text)\n",
    "ax1.set_xlabel(xlabel_text)\n",
    "ax1.legend()\n",
    "\n",
    "plt.show()"
   ]
  },
  {
   "cell_type": "code",
   "execution_count": null,
   "metadata": {},
   "outputs": [],
   "source": [
    "fig, (ax1) = plt.subplots(1, 1, figsize=(15,10), sharex=True, sharey=True)\n",
    "fig.suptitle('Weight', fontsize=20)\n",
    "\n",
    "ylabel_text = 'Time'\n",
    "xlabel_text = 'Number of blocks'\n",
    "\n",
    "l1 = ax1.plot(nonlinear_test_rounds, blockchain_list_tests_insert_weight_results, label='Blockchain (linear)')[0]\n",
    "l2 = ax1.plot(nonlinear_test_rounds, blockchain_list_nonlinear_tests_insert_weight_results, label='Blockchain (nonlinear)')[0]\n",
    "ax1.set_title('Global weight for Blockchain and Non Linear Blockchain')\n",
    "ax1.set_ylabel(ylabel_text)\n",
    "ax1.set_xlabel(xlabel_text)\n",
    "ax1.legend()\n",
    "\n",
    "plt.show()"
   ]
  },
  {
   "cell_type": "markdown",
   "metadata": {},
   "source": [
    "## Reading"
   ]
  },
  {
   "cell_type": "markdown",
   "metadata": {},
   "source": [
    "Data are only accessible via the `get_chain()` method, no direct access."
   ]
  },
  {
   "cell_type": "markdown",
   "metadata": {},
   "source": [
    "## Updating"
   ]
  },
  {
   "cell_type": "markdown",
   "metadata": {},
   "source": [
    "No updates allowed without corrupting the data structure or recreating all the blocks succeding the one you're changing."
   ]
  },
  {
   "cell_type": "markdown",
   "metadata": {},
   "source": [
    "# Result of the analysis"
   ]
  },
  {
   "cell_type": "markdown",
   "metadata": {},
   "source": [
    "## Definition of Database"
   ]
  },
  {
   "cell_type": "markdown",
   "metadata": {},
   "source": [
    "\"A large amount of information stored in a computer system in such a way that it can be easily **looked at or changed**\"  \n",
    " - [Cambridge Dictionary](https://dictionary.cambridge.org/dictionary/english/database)"
   ]
  },
  {
   "cell_type": "markdown",
   "metadata": {},
   "source": [
    "## A Blockchain is not a Database"
   ]
  },
  {
   "cell_type": "markdown",
   "metadata": {},
   "source": [
    "* Data can't be changed nor looked at (easily or by default)!"
   ]
  },
  {
   "cell_type": "markdown",
   "metadata": {},
   "source": [
    "* Data are not stored efficiently (for insert, changes or lookup)"
   ]
  },
  {
   "cell_type": "markdown",
   "metadata": {},
   "source": [
    "* A blockchain is not efficient and is not made for efficience!"
   ]
  }
 ],
 "metadata": {
  "kernelspec": {
   "display_name": "Python 3",
   "language": "python",
   "name": "python3"
  },
  "language_info": {
   "codemirror_mode": {
    "name": "ipython",
    "version": 3
   },
   "file_extension": ".py",
   "mimetype": "text/x-python",
   "name": "python",
   "nbconvert_exporter": "python",
   "pygments_lexer": "ipython3",
   "version": "3.7.3"
  }
 },
 "nbformat": 4,
 "nbformat_minor": 2
}
