{
 "cells": [
  {
   "cell_type": "markdown",
   "metadata": {},
   "source": [
    "# DLT: Distributed Ledger Technology"
   ]
  },
  {
   "cell_type": "code",
   "execution_count": 1,
   "metadata": {},
   "outputs": [],
   "source": [
    "import requests\n",
    "from pprint import pprint"
   ]
  },
  {
   "cell_type": "markdown",
   "metadata": {},
   "source": [
    "## Nodes"
   ]
  },
  {
   "cell_type": "code",
   "execution_count": 2,
   "metadata": {},
   "outputs": [],
   "source": [
    "NODE_1 = \"http://localhost:8081\""
   ]
  },
  {
   "cell_type": "code",
   "execution_count": 3,
   "metadata": {},
   "outputs": [],
   "source": [
    "NODE_2 = \"http://localhost:8082\""
   ]
  },
  {
   "cell_type": "markdown",
   "metadata": {},
   "source": [
    "## Actions"
   ]
  },
  {
   "cell_type": "code",
   "execution_count": 4,
   "metadata": {},
   "outputs": [],
   "source": [
    "def do_evil(node, data={}):\n",
    "    endpoint = '/action/evil'\n",
    "    result = requests.post(node + endpoint, json=data)\n",
    "    return result.json()"
   ]
  },
  {
   "cell_type": "code",
   "execution_count": 5,
   "metadata": {},
   "outputs": [],
   "source": [
    "def mine(node, data={}):\n",
    "    endpoint = '/mine'\n",
    "    result = requests.post(node + endpoint, json=data)\n",
    "    return result.json()"
   ]
  },
  {
   "cell_type": "code",
   "execution_count": 6,
   "metadata": {},
   "outputs": [],
   "source": [
    "def new_transaction(node, data):\n",
    "    endpoint = '/transactions/new'\n",
    "    payload = {\n",
    "        'data': data,\n",
    "    }\n",
    "    result = requests.post(node + endpoint, json=payload)\n",
    "    return result.json()"
   ]
  },
  {
   "cell_type": "code",
   "execution_count": 7,
   "metadata": {},
   "outputs": [],
   "source": [
    "def get_chain(node, params={}):\n",
    "    endpoint = '/chain'\n",
    "    result = requests.get(node + endpoint, params=params)\n",
    "    return result.json()"
   ]
  },
  {
   "cell_type": "code",
   "execution_count": 8,
   "metadata": {},
   "outputs": [],
   "source": [
    "def register_nodes(node, data=[]):\n",
    "    endpoint = '/nodes/register'\n",
    "    payload = {\n",
    "        'nodes': data,\n",
    "    }\n",
    "    result = requests.post(node + endpoint, json=payload)\n",
    "    return result.json()"
   ]
  },
  {
   "cell_type": "code",
   "execution_count": 9,
   "metadata": {},
   "outputs": [],
   "source": [
    "def consensus(node, data={}):\n",
    "    endpoint = '/nodes/consensus'\n",
    "    result = requests.post(node + endpoint, json=data)\n",
    "    return result.json()"
   ]
  },
  {
   "cell_type": "markdown",
   "metadata": {},
   "source": [
    "## Execution"
   ]
  },
  {
   "cell_type": "markdown",
   "metadata": {},
   "source": [
    "### Register the nodes between each others"
   ]
  },
  {
   "cell_type": "code",
   "execution_count": 10,
   "metadata": {},
   "outputs": [
    {
     "data": {
      "text/plain": [
       "{'total_nodes': ['localhost:8082']}"
      ]
     },
     "execution_count": 10,
     "metadata": {},
     "output_type": "execute_result"
    }
   ],
   "source": [
    "register_nodes(NODE_1, [NODE_2])"
   ]
  },
  {
   "cell_type": "code",
   "execution_count": 11,
   "metadata": {},
   "outputs": [
    {
     "data": {
      "text/plain": [
       "{'total_nodes': ['localhost:8081']}"
      ]
     },
     "execution_count": 11,
     "metadata": {},
     "output_type": "execute_result"
    }
   ],
   "source": [
    "register_nodes(NODE_2, [NODE_1])"
   ]
  },
  {
   "cell_type": "markdown",
   "metadata": {},
   "source": [
    "### Get the chains"
   ]
  },
  {
   "cell_type": "code",
   "execution_count": 12,
   "metadata": {},
   "outputs": [
    {
     "name": "stdout",
     "output_type": "stream",
     "text": [
      "{'chain': [{'index': 1,\n",
      "            'previous_hash': '0',\n",
      "            'timestamp': 1560174309.2023711,\n",
      "            'transactions': [{'data': 'The Times 03/Jan/2009 Chancellor on '\n",
      "                                      'brink of second bailout for banks'}]}],\n",
      " 'is_valid': True}\n"
     ]
    }
   ],
   "source": [
    "pprint(get_chain(NODE_1))"
   ]
  },
  {
   "cell_type": "code",
   "execution_count": 13,
   "metadata": {},
   "outputs": [
    {
     "name": "stdout",
     "output_type": "stream",
     "text": [
      "{'chain': [{'index': 1,\n",
      "            'previous_hash': '0',\n",
      "            'timestamp': 1560174315.7712932,\n",
      "            'transactions': [{'data': 'The Times 03/Jan/2009 Chancellor on '\n",
      "                                      'brink of second bailout for banks'}]}],\n",
      " 'is_valid': True}\n"
     ]
    }
   ],
   "source": [
    "pprint(get_chain(NODE_2))"
   ]
  },
  {
   "cell_type": "markdown",
   "metadata": {},
   "source": [
    "### Create some transactions"
   ]
  },
  {
   "cell_type": "code",
   "execution_count": 14,
   "metadata": {},
   "outputs": [],
   "source": [
    "transaction_1 = 'Hello, Node 1!'"
   ]
  },
  {
   "cell_type": "code",
   "execution_count": 15,
   "metadata": {},
   "outputs": [],
   "source": [
    "transaction_2 = 'Hello, Node 2!'"
   ]
  },
  {
   "cell_type": "code",
   "execution_count": 16,
   "metadata": {},
   "outputs": [
    {
     "data": {
      "text/plain": [
       "{'transaction': {'data': 'Hello, Node 1!'}}"
      ]
     },
     "execution_count": 16,
     "metadata": {},
     "output_type": "execute_result"
    }
   ],
   "source": [
    "new_transaction(NODE_1, data=transaction_1)"
   ]
  },
  {
   "cell_type": "code",
   "execution_count": 17,
   "metadata": {},
   "outputs": [
    {
     "data": {
      "text/plain": [
       "{'transaction': {'data': 'Hello, Node 2!'}}"
      ]
     },
     "execution_count": 17,
     "metadata": {},
     "output_type": "execute_result"
    }
   ],
   "source": [
    "new_transaction(NODE_2, data=transaction_2)"
   ]
  },
  {
   "cell_type": "markdown",
   "metadata": {},
   "source": [
    "### Mine"
   ]
  },
  {
   "cell_type": "code",
   "execution_count": 18,
   "metadata": {},
   "outputs": [
    {
     "name": "stdout",
     "output_type": "stream",
     "text": [
      "{'is_valid': True,\n",
      " 'new_block': {'index': 2,\n",
      "               'previous_hash': 'fb59fa77488f083417deed0bd1804b82971d24d9155696ebf8b0f2be72715d58',\n",
      "               'timestamp': 1560174323.420221,\n",
      "               'transactions': [{'data': 'Hello, Node 1!'}]}}\n"
     ]
    }
   ],
   "source": [
    "pprint(mine(NODE_1))"
   ]
  },
  {
   "cell_type": "code",
   "execution_count": 19,
   "metadata": {},
   "outputs": [
    {
     "name": "stdout",
     "output_type": "stream",
     "text": [
      "{'is_valid': True,\n",
      " 'new_block': {'index': 2,\n",
      "               'previous_hash': '92713c5e1f4fd2e2333aca7edf679a9450fe5a3f3da3144528c50b34bb2c19f9',\n",
      "               'timestamp': 1560174323.4800072,\n",
      "               'transactions': [{'data': 'Hello, Node 2!'}]}}\n"
     ]
    }
   ],
   "source": [
    "pprint(mine(NODE_2))"
   ]
  },
  {
   "cell_type": "markdown",
   "metadata": {},
   "source": [
    "### Get the chains"
   ]
  },
  {
   "cell_type": "code",
   "execution_count": 20,
   "metadata": {},
   "outputs": [
    {
     "name": "stdout",
     "output_type": "stream",
     "text": [
      "{'chain': [{'index': 1,\n",
      "            'previous_hash': '0',\n",
      "            'timestamp': 1560174309.2023711,\n",
      "            'transactions': [{'data': 'The Times 03/Jan/2009 Chancellor on '\n",
      "                                      'brink of second bailout for banks'}]},\n",
      "           {'index': 2,\n",
      "            'previous_hash': 'fb59fa77488f083417deed0bd1804b82971d24d9155696ebf8b0f2be72715d58',\n",
      "            'timestamp': 1560174323.420221,\n",
      "            'transactions': [{'data': 'Hello, Node 1!'}]}],\n",
      " 'is_valid': True}\n"
     ]
    }
   ],
   "source": [
    "pprint(get_chain(NODE_1))"
   ]
  },
  {
   "cell_type": "code",
   "execution_count": 21,
   "metadata": {},
   "outputs": [
    {
     "name": "stdout",
     "output_type": "stream",
     "text": [
      "{'chain': [{'index': 1,\n",
      "            'previous_hash': '0',\n",
      "            'timestamp': 1560174315.7712932,\n",
      "            'transactions': [{'data': 'The Times 03/Jan/2009 Chancellor on '\n",
      "                                      'brink of second bailout for banks'}]},\n",
      "           {'index': 2,\n",
      "            'previous_hash': '92713c5e1f4fd2e2333aca7edf679a9450fe5a3f3da3144528c50b34bb2c19f9',\n",
      "            'timestamp': 1560174323.4800072,\n",
      "            'transactions': [{'data': 'Hello, Node 2!'}]}],\n",
      " 'is_valid': True}\n"
     ]
    }
   ],
   "source": [
    "pprint(get_chain(NODE_2))"
   ]
  },
  {
   "cell_type": "markdown",
   "metadata": {},
   "source": [
    "### Develop a Master Blockchain on one node"
   ]
  },
  {
   "cell_type": "code",
   "execution_count": 22,
   "metadata": {},
   "outputs": [
    {
     "data": {
      "text/plain": [
       "{'transaction': {'data': 'Hello, Node 1!'}}"
      ]
     },
     "execution_count": 22,
     "metadata": {},
     "output_type": "execute_result"
    }
   ],
   "source": [
    "new_transaction(NODE_1, data=transaction_1)"
   ]
  },
  {
   "cell_type": "code",
   "execution_count": 23,
   "metadata": {},
   "outputs": [
    {
     "data": {
      "text/plain": [
       "{'transaction': {'data': 'Hello, Node 2!'}}"
      ]
     },
     "execution_count": 23,
     "metadata": {},
     "output_type": "execute_result"
    }
   ],
   "source": [
    "new_transaction(NODE_1, data=transaction_2)"
   ]
  },
  {
   "cell_type": "code",
   "execution_count": 24,
   "metadata": {},
   "outputs": [
    {
     "name": "stdout",
     "output_type": "stream",
     "text": [
      "{'is_valid': True,\n",
      " 'new_block': {'index': 3,\n",
      "               'previous_hash': 'bd53905538b4dd6909186ca7535b79b49280f4de5efeca92100d689d3fcadcfa',\n",
      "               'timestamp': 1560174324.0008333,\n",
      "               'transactions': [{'data': 'Hello, Node 1!'},\n",
      "                                {'data': 'Hello, Node 2!'}]}}\n"
     ]
    }
   ],
   "source": [
    "pprint(mine(NODE_1))"
   ]
  },
  {
   "cell_type": "markdown",
   "metadata": {},
   "source": [
    "### Propagate the Blockchain"
   ]
  },
  {
   "cell_type": "code",
   "execution_count": 25,
   "metadata": {},
   "outputs": [
    {
     "name": "stdout",
     "output_type": "stream",
     "text": [
      "{'chain': [{'index': 1,\n",
      "            'previous_hash': '0',\n",
      "            'timestamp': 1560174309.2023711,\n",
      "            'transactions': [{'data': 'The Times 03/Jan/2009 Chancellor on '\n",
      "                                      'brink of second bailout for banks'}]},\n",
      "           {'index': 2,\n",
      "            'previous_hash': 'fb59fa77488f083417deed0bd1804b82971d24d9155696ebf8b0f2be72715d58',\n",
      "            'timestamp': 1560174323.420221,\n",
      "            'transactions': [{'data': 'Hello, Node 1!'}]},\n",
      "           {'index': 3,\n",
      "            'previous_hash': 'bd53905538b4dd6909186ca7535b79b49280f4de5efeca92100d689d3fcadcfa',\n",
      "            'timestamp': 1560174324.0008333,\n",
      "            'transactions': [{'data': 'Hello, Node 1!'},\n",
      "                             {'data': 'Hello, Node 2!'}]}],\n",
      " 'is_valid': True}\n"
     ]
    }
   ],
   "source": [
    "pprint(get_chain(NODE_1))"
   ]
  },
  {
   "cell_type": "code",
   "execution_count": 26,
   "metadata": {},
   "outputs": [
    {
     "name": "stdout",
     "output_type": "stream",
     "text": [
      "{'chain': [{'index': 1,\n",
      "            'previous_hash': '0',\n",
      "            'timestamp': 1560174315.7712932,\n",
      "            'transactions': [{'data': 'The Times 03/Jan/2009 Chancellor on '\n",
      "                                      'brink of second bailout for banks'}]},\n",
      "           {'index': 2,\n",
      "            'previous_hash': '92713c5e1f4fd2e2333aca7edf679a9450fe5a3f3da3144528c50b34bb2c19f9',\n",
      "            'timestamp': 1560174323.4800072,\n",
      "            'transactions': [{'data': 'Hello, Node 2!'}]}],\n",
      " 'is_valid': True}\n"
     ]
    }
   ],
   "source": [
    "pprint(get_chain(NODE_2))"
   ]
  },
  {
   "cell_type": "markdown",
   "metadata": {},
   "source": [
    "#### Execute Gossip and Consensus between Nodes"
   ]
  },
  {
   "cell_type": "code",
   "execution_count": 27,
   "metadata": {},
   "outputs": [
    {
     "name": "stdout",
     "output_type": "stream",
     "text": [
      "{'chain': [{'index': 1,\n",
      "            'previous_hash': '0',\n",
      "            'timestamp': 1560174309.2023711,\n",
      "            'transactions': [{'data': 'The Times 03/Jan/2009 Chancellor on '\n",
      "                                      'brink of second bailout for banks'}]},\n",
      "           {'index': 2,\n",
      "            'previous_hash': 'fb59fa77488f083417deed0bd1804b82971d24d9155696ebf8b0f2be72715d58',\n",
      "            'timestamp': 1560174323.420221,\n",
      "            'transactions': [{'data': 'Hello, Node 1!'}]},\n",
      "           {'index': 3,\n",
      "            'previous_hash': 'bd53905538b4dd6909186ca7535b79b49280f4de5efeca92100d689d3fcadcfa',\n",
      "            'timestamp': 1560174324.0008333,\n",
      "            'transactions': [{'data': 'Hello, Node 1!'},\n",
      "                             {'data': 'Hello, Node 2!'}]}],\n",
      " 'status': 'Chain not replaced - master'}\n"
     ]
    }
   ],
   "source": [
    "pprint(consensus(NODE_1))"
   ]
  },
  {
   "cell_type": "code",
   "execution_count": 28,
   "metadata": {},
   "outputs": [
    {
     "name": "stdout",
     "output_type": "stream",
     "text": [
      "{'chain': [{'index': 1,\n",
      "            'previous_hash': '0',\n",
      "            'timestamp': 1560174309.2023711,\n",
      "            'transactions': [{'data': 'The Times 03/Jan/2009 Chancellor on '\n",
      "                                      'brink of second bailout for banks'}]},\n",
      "           {'index': 2,\n",
      "            'previous_hash': 'fb59fa77488f083417deed0bd1804b82971d24d9155696ebf8b0f2be72715d58',\n",
      "            'timestamp': 1560174323.420221,\n",
      "            'transactions': [{'data': 'Hello, Node 1!'}]},\n",
      "           {'index': 3,\n",
      "            'previous_hash': 'bd53905538b4dd6909186ca7535b79b49280f4de5efeca92100d689d3fcadcfa',\n",
      "            'timestamp': 1560174324.0008333,\n",
      "            'transactions': [{'data': 'Hello, Node 1!'},\n",
      "                             {'data': 'Hello, Node 2!'}]}],\n",
      " 'status': 'Chain replaced'}\n"
     ]
    }
   ],
   "source": [
    "pprint(consensus(NODE_2))"
   ]
  },
  {
   "cell_type": "markdown",
   "metadata": {},
   "source": [
    "## One node become evil..."
   ]
  },
  {
   "cell_type": "markdown",
   "metadata": {},
   "source": [
    "#### Remove the last block..."
   ]
  },
  {
   "cell_type": "code",
   "execution_count": 29,
   "metadata": {},
   "outputs": [
    {
     "name": "stdout",
     "output_type": "stream",
     "text": [
      "{'element': {'index': 3,\n",
      "             'previous_hash': 'bd53905538b4dd6909186ca7535b79b49280f4de5efeca92100d689d3fcadcfa',\n",
      "             'timestamp': 1560174324.0008333,\n",
      "             'transactions': [{'data': 'Hello, Node 1!'},\n",
      "                              {'data': 'Hello, Node 2!'}]},\n",
      " 'status': 'Snap done!'}\n"
     ]
    }
   ],
   "source": [
    "pprint(do_evil(NODE_2))"
   ]
  },
  {
   "cell_type": "code",
   "execution_count": 30,
   "metadata": {},
   "outputs": [
    {
     "name": "stdout",
     "output_type": "stream",
     "text": [
      "{'chain': [{'index': 1,\n",
      "            'previous_hash': '0',\n",
      "            'timestamp': 1560174309.2023711,\n",
      "            'transactions': [{'data': 'The Times 03/Jan/2009 Chancellor on '\n",
      "                                      'brink of second bailout for banks'}]},\n",
      "           {'index': 2,\n",
      "            'previous_hash': 'fb59fa77488f083417deed0bd1804b82971d24d9155696ebf8b0f2be72715d58',\n",
      "            'timestamp': 1560174323.420221,\n",
      "            'transactions': [{'data': 'Hello, Node 1!'}]}],\n",
      " 'is_valid': True}\n"
     ]
    }
   ],
   "source": [
    "pprint(get_chain(NODE_2))"
   ]
  },
  {
   "cell_type": "markdown",
   "metadata": {},
   "source": [
    "#### Create an evil transaction..."
   ]
  },
  {
   "cell_type": "code",
   "execution_count": 31,
   "metadata": {},
   "outputs": [],
   "source": [
    "evil_transaction = 'Evil transaction'"
   ]
  },
  {
   "cell_type": "code",
   "execution_count": 32,
   "metadata": {},
   "outputs": [
    {
     "data": {
      "text/plain": [
       "{'transaction': {'data': 'Evil transaction'}}"
      ]
     },
     "execution_count": 32,
     "metadata": {},
     "output_type": "execute_result"
    }
   ],
   "source": [
    "new_transaction(NODE_2, data=evil_transaction)"
   ]
  },
  {
   "cell_type": "code",
   "execution_count": 33,
   "metadata": {},
   "outputs": [
    {
     "name": "stdout",
     "output_type": "stream",
     "text": [
      "{'is_valid': True,\n",
      " 'new_block': {'index': 3,\n",
      "               'previous_hash': 'bd53905538b4dd6909186ca7535b79b49280f4de5efeca92100d689d3fcadcfa',\n",
      "               'timestamp': 1560174324.754826,\n",
      "               'transactions': [{'data': 'Evil transaction'}]}}\n"
     ]
    }
   ],
   "source": [
    "pprint(mine(NODE_2))"
   ]
  },
  {
   "cell_type": "code",
   "execution_count": 34,
   "metadata": {},
   "outputs": [
    {
     "name": "stdout",
     "output_type": "stream",
     "text": [
      "{'chain': [{'index': 1,\n",
      "            'previous_hash': '0',\n",
      "            'timestamp': 1560174309.2023711,\n",
      "            'transactions': [{'data': 'The Times 03/Jan/2009 Chancellor on '\n",
      "                                      'brink of second bailout for banks'}]},\n",
      "           {'index': 2,\n",
      "            'previous_hash': 'fb59fa77488f083417deed0bd1804b82971d24d9155696ebf8b0f2be72715d58',\n",
      "            'timestamp': 1560174323.420221,\n",
      "            'transactions': [{'data': 'Hello, Node 1!'}]},\n",
      "           {'index': 3,\n",
      "            'previous_hash': 'bd53905538b4dd6909186ca7535b79b49280f4de5efeca92100d689d3fcadcfa',\n",
      "            'timestamp': 1560174324.754826,\n",
      "            'transactions': [{'data': 'Evil transaction'}]}],\n",
      " 'is_valid': True}\n"
     ]
    }
   ],
   "source": [
    "pprint(get_chain(NODE_2))"
   ]
  },
  {
   "cell_type": "markdown",
   "metadata": {},
   "source": [
    "#### Create another evil transaction..."
   ]
  },
  {
   "cell_type": "code",
   "execution_count": 35,
   "metadata": {},
   "outputs": [],
   "source": [
    "evil_transaction = 'Evil transaction'"
   ]
  },
  {
   "cell_type": "code",
   "execution_count": 36,
   "metadata": {},
   "outputs": [
    {
     "data": {
      "text/plain": [
       "{'transaction': {'data': 'Evil transaction'}}"
      ]
     },
     "execution_count": 36,
     "metadata": {},
     "output_type": "execute_result"
    }
   ],
   "source": [
    "new_transaction(NODE_2, data=evil_transaction)"
   ]
  },
  {
   "cell_type": "code",
   "execution_count": 37,
   "metadata": {},
   "outputs": [
    {
     "name": "stdout",
     "output_type": "stream",
     "text": [
      "{'is_valid': True,\n",
      " 'new_block': {'index': 4,\n",
      "               'previous_hash': '4090f4ad2369c6f80493fb8f99e24f301646786415893faf7c83f96c29018895',\n",
      "               'timestamp': 1560174325.1899118,\n",
      "               'transactions': [{'data': 'Evil transaction'}]}}\n"
     ]
    }
   ],
   "source": [
    "pprint(mine(NODE_2))"
   ]
  },
  {
   "cell_type": "code",
   "execution_count": 38,
   "metadata": {},
   "outputs": [
    {
     "name": "stdout",
     "output_type": "stream",
     "text": [
      "{'chain': [{'index': 1,\n",
      "            'previous_hash': '0',\n",
      "            'timestamp': 1560174309.2023711,\n",
      "            'transactions': [{'data': 'The Times 03/Jan/2009 Chancellor on '\n",
      "                                      'brink of second bailout for banks'}]},\n",
      "           {'index': 2,\n",
      "            'previous_hash': 'fb59fa77488f083417deed0bd1804b82971d24d9155696ebf8b0f2be72715d58',\n",
      "            'timestamp': 1560174323.420221,\n",
      "            'transactions': [{'data': 'Hello, Node 1!'}]},\n",
      "           {'index': 3,\n",
      "            'previous_hash': 'bd53905538b4dd6909186ca7535b79b49280f4de5efeca92100d689d3fcadcfa',\n",
      "            'timestamp': 1560174324.754826,\n",
      "            'transactions': [{'data': 'Evil transaction'}]},\n",
      "           {'index': 4,\n",
      "            'previous_hash': '4090f4ad2369c6f80493fb8f99e24f301646786415893faf7c83f96c29018895',\n",
      "            'timestamp': 1560174325.1899118,\n",
      "            'transactions': [{'data': 'Evil transaction'}]}],\n",
      " 'is_valid': True}\n"
     ]
    }
   ],
   "source": [
    "pprint(get_chain(NODE_2))"
   ]
  },
  {
   "cell_type": "markdown",
   "metadata": {},
   "source": [
    "#### Propagate the evilness..."
   ]
  },
  {
   "cell_type": "code",
   "execution_count": 39,
   "metadata": {},
   "outputs": [
    {
     "name": "stdout",
     "output_type": "stream",
     "text": [
      "{'chain': [{'index': 1,\n",
      "            'previous_hash': '0',\n",
      "            'timestamp': 1560174309.2023711,\n",
      "            'transactions': [{'data': 'The Times 03/Jan/2009 Chancellor on '\n",
      "                                      'brink of second bailout for banks'}]},\n",
      "           {'index': 2,\n",
      "            'previous_hash': 'fb59fa77488f083417deed0bd1804b82971d24d9155696ebf8b0f2be72715d58',\n",
      "            'timestamp': 1560174323.420221,\n",
      "            'transactions': [{'data': 'Hello, Node 1!'}]},\n",
      "           {'index': 3,\n",
      "            'previous_hash': 'bd53905538b4dd6909186ca7535b79b49280f4de5efeca92100d689d3fcadcfa',\n",
      "            'timestamp': 1560174324.754826,\n",
      "            'transactions': [{'data': 'Evil transaction'}]},\n",
      "           {'index': 4,\n",
      "            'previous_hash': '4090f4ad2369c6f80493fb8f99e24f301646786415893faf7c83f96c29018895',\n",
      "            'timestamp': 1560174325.1899118,\n",
      "            'transactions': [{'data': 'Evil transaction'}]}],\n",
      " 'status': 'Chain replaced'}\n"
     ]
    }
   ],
   "source": [
    "pprint(consensus(NODE_1))"
   ]
  },
  {
   "cell_type": "code",
   "execution_count": 40,
   "metadata": {},
   "outputs": [
    {
     "name": "stdout",
     "output_type": "stream",
     "text": [
      "{'chain': [{'index': 1,\n",
      "            'previous_hash': '0',\n",
      "            'timestamp': 1560174309.2023711,\n",
      "            'transactions': [{'data': 'The Times 03/Jan/2009 Chancellor on '\n",
      "                                      'brink of second bailout for banks'}]},\n",
      "           {'index': 2,\n",
      "            'previous_hash': 'fb59fa77488f083417deed0bd1804b82971d24d9155696ebf8b0f2be72715d58',\n",
      "            'timestamp': 1560174323.420221,\n",
      "            'transactions': [{'data': 'Hello, Node 1!'}]},\n",
      "           {'index': 3,\n",
      "            'previous_hash': 'bd53905538b4dd6909186ca7535b79b49280f4de5efeca92100d689d3fcadcfa',\n",
      "            'timestamp': 1560174324.754826,\n",
      "            'transactions': [{'data': 'Evil transaction'}]},\n",
      "           {'index': 4,\n",
      "            'previous_hash': '4090f4ad2369c6f80493fb8f99e24f301646786415893faf7c83f96c29018895',\n",
      "            'timestamp': 1560174325.1899118,\n",
      "            'transactions': [{'data': 'Evil transaction'}]}],\n",
      " 'is_valid': True}\n"
     ]
    }
   ],
   "source": [
    "pprint(get_chain(NODE_1))"
   ]
  },
  {
   "cell_type": "code",
   "execution_count": 41,
   "metadata": {},
   "outputs": [
    {
     "name": "stdout",
     "output_type": "stream",
     "text": [
      "{'chain': [{'index': 1,\n",
      "            'previous_hash': '0',\n",
      "            'timestamp': 1560174309.2023711,\n",
      "            'transactions': [{'data': 'The Times 03/Jan/2009 Chancellor on '\n",
      "                                      'brink of second bailout for banks'}]},\n",
      "           {'index': 2,\n",
      "            'previous_hash': 'fb59fa77488f083417deed0bd1804b82971d24d9155696ebf8b0f2be72715d58',\n",
      "            'timestamp': 1560174323.420221,\n",
      "            'transactions': [{'data': 'Hello, Node 1!'}]},\n",
      "           {'index': 3,\n",
      "            'previous_hash': 'bd53905538b4dd6909186ca7535b79b49280f4de5efeca92100d689d3fcadcfa',\n",
      "            'timestamp': 1560174324.754826,\n",
      "            'transactions': [{'data': 'Evil transaction'}]},\n",
      "           {'index': 4,\n",
      "            'previous_hash': '4090f4ad2369c6f80493fb8f99e24f301646786415893faf7c83f96c29018895',\n",
      "            'timestamp': 1560174325.1899118,\n",
      "            'transactions': [{'data': 'Evil transaction'}]}],\n",
      " 'is_valid': True}\n"
     ]
    }
   ],
   "source": [
    "pprint(get_chain(NODE_2))"
   ]
  }
 ],
 "metadata": {
  "kernelspec": {
   "display_name": "Python 3",
   "language": "python",
   "name": "python3"
  },
  "language_info": {
   "codemirror_mode": {
    "name": "ipython",
    "version": 3
   },
   "file_extension": ".py",
   "mimetype": "text/x-python",
   "name": "python",
   "nbconvert_exporter": "python",
   "pygments_lexer": "ipython3",
   "version": "3.7.3"
  }
 },
 "nbformat": 4,
 "nbformat_minor": 2
}
